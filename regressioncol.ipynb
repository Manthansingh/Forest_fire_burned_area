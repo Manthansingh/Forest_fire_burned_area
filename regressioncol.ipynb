{
 "cells": [
  {
   "cell_type": "code",
   "execution_count": 1,
   "metadata": {
    "colab": {
     "base_uri": "https://localhost:8080/",
     "height": 34
    },
    "colab_type": "code",
    "id": "u_4pPs8KCrLQ",
    "outputId": "6a0f362b-655d-4f65-fa9a-0611c71d4b70"
   },
   "outputs": [
    {
     "name": "stdout",
     "output_type": "stream",
     "text": [
      "(517, 12) (517,)\n"
     ]
    }
   ],
   "source": [
    "import pandas\n",
    "import numpy as np\n",
    "np.set_printoptions(threshold=np.nan)\n",
    "data=pandas.read_csv(\"forestfires.csv\",header=None,skiprows=1)\n",
    "X=data.iloc[:, :12].values\n",
    "Y=data.iloc[:, 12].values\n",
    "#print(data)\n",
    "print(X.shape,Y.shape)"
   ]
  },
  {
   "cell_type": "code",
   "execution_count": 3,
   "metadata": {
    "colab": {},
    "colab_type": "code",
    "id": "qX2se6R-CrLf"
   },
   "outputs": [],
   "source": [
    "#Preprocessing the datset removing months and days values and replace with binaries\n",
    "from sklearn.preprocessing import LabelEncoder,OneHotEncoder\n",
    "#encoding categorical data\n",
    "lblencoder=LabelEncoder()\n",
    "for i in [2,3]:\n",
    "    X[:, i]=lblencoder.fit_transform(X[:, i])\n",
    "#adding dummy variables\n",
    "onehotencoder=OneHotEncoder(categorical_features=[2,3]) \n",
    "X=onehotencoder.fit_transform(X).toarray()\n",
    "#print(X)"
   ]
  },
  {
   "cell_type": "code",
   "execution_count": 4,
   "metadata": {
    "colab": {
     "base_uri": "https://localhost:8080/",
     "height": 52
    },
    "colab_type": "code",
    "id": "UN4R5lDlCrLm",
    "outputId": "bb8dc7e5-6765-434b-8057-98ff22fe2c1d"
   },
   "outputs": [
    {
     "name": "stderr",
     "output_type": "stream",
     "text": [
      "c:\\users\\manthansingh\\appdata\\local\\programs\\python\\python36\\lib\\site-packages\\sklearn\\ensemble\\weight_boosting.py:29: DeprecationWarning: numpy.core.umath_tests is an internal NumPy module and should not be imported. It will be removed in a future NumPy release.\n",
      "  from numpy.core.umath_tests import inner1d\n"
     ]
    },
    {
     "name": "stdout",
     "output_type": "stream",
     "text": [
      "0.8494394444277636\n",
      "0.8490953232825247\n"
     ]
    }
   ],
   "source": [
    "# Testing the datset with RandomTreeRegression\n",
    "from sklearn.ensemble import RandomForestRegressor\n",
    "import sklearn.metrics as sm\n",
    "model = RandomForestRegressor(n_estimators=300,random_state=0)\n",
    "model.fit(X,Y)\n",
    "Y_predict=model.predict(X)\n",
    "#checking the variance score\n",
    "score = sm.explained_variance_score(Y, Y_predict)\n",
    "print(score)\n",
    "\n",
    "#checking the r2 score\n",
    "print(sm.r2_score(Y,Y_predict))"
   ]
  },
  {
   "cell_type": "code",
   "execution_count": 5,
   "metadata": {
    "colab": {
     "base_uri": "https://localhost:8080/",
     "height": 52
    },
    "colab_type": "code",
    "id": "GlBv44FSCrLt",
    "outputId": "fbe57df6-0989-4ef5-f55b-a98c5178c14f"
   },
   "outputs": [
    {
     "name": "stdout",
     "output_type": "stream",
     "text": [
      "0.9998970573716115\n",
      "0.8490953232825247\n"
     ]
    }
   ],
   "source": [
    "# Testing the datset with DecisionTreeRegression\n",
    "from sklearn.tree import DecisionTreeRegressor\n",
    "import sklearn.metrics as sm\n",
    "regre=DecisionTreeRegressor(criterion='mse',random_state=0)\n",
    "regre.fit(X,Y)\n",
    "Y1_predict=regre.predict(X)\n",
    "#checking the variance score\n",
    "score = sm.explained_variance_score(Y, Y1_predict)\n",
    "print(score)\n",
    "\n",
    "#checking the r2 score\n",
    "print(sm.r2_score(Y,Y_predict))"
   ]
  },
  {
   "cell_type": "markdown",
   "metadata": {
    "colab_type": "text",
    "id": "t_PZ8gs6F2CT"
   },
   "source": [
    "The diffference between variance score and r2 score in randomtree regression is very less compare to decision tree regression.So the unbaised nature of Randomtree model is more compare to that of DecisionTree "
   ]
  },
  {
   "cell_type": "code",
   "execution_count": 0,
   "metadata": {
    "colab": {},
    "colab_type": "code",
    "id": "IDjv1hfkCrL1"
   },
   "outputs": [],
   "source": []
  },
  {
   "cell_type": "code",
   "execution_count": 0,
   "metadata": {
    "colab": {},
    "colab_type": "code",
    "id": "S9Nte-IdCrL7"
   },
   "outputs": [],
   "source": []
  }
 ],
 "metadata": {
  "colab": {
   "collapsed_sections": [],
   "name": "regression.ipynb",
   "provenance": [],
   "version": "0.3.2"
  },
  "kernelspec": {
   "display_name": "Python 3",
   "language": "python",
   "name": "python3"
  },
  "language_info": {
   "codemirror_mode": {
    "name": "ipython",
    "version": 3
   },
   "file_extension": ".py",
   "mimetype": "text/x-python",
   "name": "python",
   "nbconvert_exporter": "python",
   "pygments_lexer": "ipython3",
   "version": "3.6.5"
  }
 },
 "nbformat": 4,
 "nbformat_minor": 1
}
